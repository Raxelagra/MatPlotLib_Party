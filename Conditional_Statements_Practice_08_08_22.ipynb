{
  "nbformat": 4,
  "nbformat_minor": 0,
  "metadata": {
    "colab": {
      "name": "Conditional Statements Practice 08 08 22.ipynb",
      "provenance": [],
      "collapsed_sections": []
    },
    "kernelspec": {
      "name": "python3",
      "display_name": "Python 3"
    },
    "language_info": {
      "name": "python"
    }
  },
  "cells": [
    {
      "cell_type": "markdown",
      "source": [
        "Class_1 = [[('Janet',22)]],['Grace',40],['Wes',50]\n",
        "\n",
        "1. Print out all value grades independently in each line\n",
        "\n",
        "2. Print these sentences on different lines\n",
        "- Janet had 22\n",
        "- Grace had 40\n",
        "- Wes had 50"
      ],
      "metadata": {
        "id": "0VBed0g2bDjY"
      }
    },
    {
      "cell_type": "code",
      "execution_count": null,
      "metadata": {
        "id": "OR6zUfKGaKkw"
      },
      "outputs": [],
      "source": [
        "#State data set\n",
        "Class_1 = [[('Janet',22)],['Grace',40],['Wes',50]]"
      ]
    },
    {
      "cell_type": "code",
      "source": [
        "#No.1 print out all value grades independently in each line\n",
        "for person in Class_1:\n",
        "  if person[1:]:\n",
        "    print(person[0])\n",
        "    print(person[1])\n",
        "  elif person[0]:\n",
        "    print(person[0][0])\n",
        "    print(person[0][1])"
      ],
      "metadata": {
        "colab": {
          "base_uri": "https://localhost:8080/"
        },
        "id": "0oA-1I8jjFlZ",
        "outputId": "64df3990-57b8-4fec-9d01-f001e3f23aef"
      },
      "execution_count": null,
      "outputs": [
        {
          "output_type": "stream",
          "name": "stdout",
          "text": [
            "Janet\n",
            "22\n",
            "Grace\n",
            "40\n",
            "Wes\n",
            "50\n"
          ]
        }
      ]
    },
    {
      "cell_type": "code",
      "source": [
        "#No.2 define tuple within the data set\n",
        "Tuple = Class_1[0][0]\n",
        "print(Tuple[1], Class_1[1][1],Class_1[2][1])"
      ],
      "metadata": {
        "colab": {
          "base_uri": "https://localhost:8080/"
        },
        "id": "6x_SzjBuca63",
        "outputId": "8a69b64c-9de0-4818-c8d6-32999a8fec40"
      },
      "execution_count": null,
      "outputs": [
        {
          "output_type": "stream",
          "name": "stdout",
          "text": [
            "22 40 50\n"
          ]
        }
      ]
    },
    {
      "cell_type": "code",
      "source": [
        "#print out new variable\n",
        "Class_Grade = [Tuple, Class_1[1], Class_1[2]]\n",
        "Class_Grade"
      ],
      "metadata": {
        "colab": {
          "base_uri": "https://localhost:8080/"
        },
        "id": "gkcIywSVc32R",
        "outputId": "6edfba05-6112-4a3e-9fd2-12e92352566d"
      },
      "execution_count": null,
      "outputs": [
        {
          "output_type": "execute_result",
          "data": {
            "text/plain": [
              "[('Janet', 22), ['Grace', 40], ['Wes', 50]]"
            ]
          },
          "metadata": {},
          "execution_count": 10
        }
      ]
    },
    {
      "cell_type": "code",
      "source": [
        "#print out requested phrases\n",
        "for Grades in Class_Grade:\n",
        "  print(Grades[0], 'had', Grades[1])"
      ],
      "metadata": {
        "colab": {
          "base_uri": "https://localhost:8080/"
        },
        "id": "4dacnH_QgGdN",
        "outputId": "921b0f13-7c32-489e-e422-0af3e25f42b6"
      },
      "execution_count": null,
      "outputs": [
        {
          "output_type": "stream",
          "name": "stdout",
          "text": [
            "Janet had 22\n",
            "Grace had 40\n",
            "Wes had 50\n"
          ]
        }
      ]
    }
  ]
}